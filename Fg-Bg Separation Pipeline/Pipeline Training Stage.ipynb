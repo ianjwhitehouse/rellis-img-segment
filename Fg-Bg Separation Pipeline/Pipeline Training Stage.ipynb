{
 "cells": [
  {
   "cell_type": "markdown",
   "id": "aa7de28f",
   "metadata": {},
   "source": [
    "# Global Settings"
   ]
  },
  {
   "cell_type": "code",
   "execution_count": null,
   "id": "0666bb39",
   "metadata": {},
   "outputs": [],
   "source": []
  },
  {
   "cell_type": "markdown",
   "id": "302003bf",
   "metadata": {},
   "source": [
    "# Data Generation"
   ]
  },
  {
   "cell_type": "code",
   "execution_count": null,
   "id": "f5279cc4",
   "metadata": {},
   "outputs": [],
   "source": [
    "# Generate fg mask"
   ]
  },
  {
   "cell_type": "code",
   "execution_count": null,
   "id": "5b5bf9e0",
   "metadata": {},
   "outputs": [],
   "source": [
    "# Generate generate classified fg and bg masks [SET A VOID INDEX LIKE https://huggingface.co/docs/transformers/model_doc/segformer#transformers.SegformerConfig.semantic_loss_ignore_index]"
   ]
  },
  {
   "cell_type": "markdown",
   "id": "eecf5fb1",
   "metadata": {},
   "source": [
    "# FG-BG Separator"
   ]
  },
  {
   "cell_type": "code",
   "execution_count": null,
   "id": "d5a87958",
   "metadata": {},
   "outputs": [],
   "source": []
  },
  {
   "cell_type": "markdown",
   "id": "29952124",
   "metadata": {},
   "source": [
    "# FG Classifier"
   ]
  },
  {
   "cell_type": "code",
   "execution_count": null,
   "id": "e4a1c443",
   "metadata": {},
   "outputs": [],
   "source": [
    "# REGARDLESS OF MODEL USED, VOIDS CANNOT BE COUNTED IN LOSS\n",
    "# Also experiment with no voids, just 0s for every channel"
   ]
  },
  {
   "cell_type": "markdown",
   "id": "f82b839b",
   "metadata": {},
   "source": [
    "# BG Classifier"
   ]
  },
  {
   "cell_type": "code",
   "execution_count": null,
   "id": "c8298ff3",
   "metadata": {},
   "outputs": [],
   "source": [
    "# REGARDLESS OF MODEL USED, VOIDS CANNOT BE COUNTED IN LOSS"
   ]
  },
  {
   "cell_type": "markdown",
   "id": "20ae5f59",
   "metadata": {},
   "source": [
    "# Combiner Model"
   ]
  },
  {
   "cell_type": "code",
   "execution_count": null,
   "id": "c15c8f3e",
   "metadata": {},
   "outputs": [],
   "source": [
    "# Combine inputs from FG Classifier and BG Classifier by just stacking the channels together (do not include void channels)"
   ]
  },
  {
   "cell_type": "code",
   "execution_count": null,
   "id": "602ffa33",
   "metadata": {},
   "outputs": [],
   "source": [
    "# Experiment with weighted loss functions, potentially weight each class in the loss function by 1/(number of times it appears)\n",
    "# https://www.tensorflow.org/api_docs/python/tf/keras/losses/CategoricalFocalCrossentropy\n",
    "# "
   ]
  }
 ],
 "metadata": {
  "kernelspec": {
   "display_name": "tf",
   "language": "python",
   "name": "tf"
  },
  "language_info": {
   "codemirror_mode": {
    "name": "ipython",
    "version": 3
   },
   "file_extension": ".py",
   "mimetype": "text/x-python",
   "name": "python",
   "nbconvert_exporter": "python",
   "pygments_lexer": "ipython3",
   "version": "3.7.16"
  }
 },
 "nbformat": 4,
 "nbformat_minor": 5
}
